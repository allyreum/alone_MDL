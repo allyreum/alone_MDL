{
  "nbformat": 4,
  "nbformat_minor": 0,
  "metadata": {
    "colab": {
      "provenance": [],
      "authorship_tag": "ABX9TyMWaPiDsUbLKk/ZwVqyzhC7",
      "include_colab_link": true
    },
    "kernelspec": {
      "name": "python3",
      "display_name": "Python 3"
    },
    "language_info": {
      "name": "python"
    }
  },
  "cells": [
    {
      "cell_type": "markdown",
      "metadata": {
        "id": "view-in-github",
        "colab_type": "text"
      },
      "source": [
        "<a href=\"https://colab.research.google.com/github/allyreum/alone_MDL/blob/main/basic_in_Python.ipynb\" target=\"_parent\"><img src=\"https://colab.research.google.com/assets/colab-badge.svg\" alt=\"Open In Colab\"/></a>"
      ]
    },
    {
      "cell_type": "markdown",
      "source": [
        "# **Python for beginners - Learning Coding with Python in 1 hour**\n",
        "url: https://youtu.be/kqtD5dpn9C8?si=frovcc0mp-SxKVci"
      ],
      "metadata": {
        "id": "z8kySbGnIPNr"
      }
    },
    {
      "cell_type": "code",
      "source": [
        "age = 20\n",
        "price = 19.95\n",
        "first_name = 'Ally'\n",
        "is_online = True # true, TRUE 는 boolean 아님\n",
        "print(age)"
      ],
      "metadata": {
        "colab": {
          "base_uri": "https://localhost:8080/"
        },
        "id": "hcYeQ2OnIwHD",
        "outputId": "dbd54a15-805c-42e4-e3c9-2c58d006e685"
      },
      "execution_count": null,
      "outputs": [
        {
          "output_type": "stream",
          "name": "stdout",
          "text": [
            "20\n"
          ]
        }
      ]
    },
    {
      "cell_type": "markdown",
      "source": [
        "## INPUT FUNCTION"
      ],
      "metadata": {
        "id": "sYBoVYLuVSwL"
      }
    },
    {
      "cell_type": "code",
      "source": [
        "name = input('What is your name?')\n",
        "print('Hello ' + name)"
      ],
      "metadata": {
        "colab": {
          "base_uri": "https://localhost:8080/"
        },
        "id": "lKjRE9cETZvZ",
        "outputId": "cb1e66a9-82ac-451c-9a51-bfc803fbe3ed"
      },
      "execution_count": null,
      "outputs": [
        {
          "output_type": "stream",
          "name": "stdout",
          "text": [
            "What is your name?A\n",
            "Hello A\n"
          ]
        }
      ]
    },
    {
      "cell_type": "code",
      "source": [
        "# birth_year = input('Enter your birth year:')\n",
        "# age = 2025 - birth_year\n",
        "# print(age) # operand 피연산자 error\n",
        "birth_year = input('Enter your birth year:')\n",
        "age = 2025 - int(birth_year)\n",
        "print(age)\n",
        "\n",
        "# int() float() bool() str()"
      ],
      "metadata": {
        "colab": {
          "base_uri": "https://localhost:8080/"
        },
        "id": "Hto7KRIsVVRn",
        "outputId": "6493ebbc-97c3-4c00-96e9-911efbd6c777"
      },
      "execution_count": null,
      "outputs": [
        {
          "output_type": "stream",
          "name": "stdout",
          "text": [
            "Enter your birth year:2000\n",
            "25\n"
          ]
        }
      ]
    },
    {
      "cell_type": "code",
      "source": [
        "# first = input('First float or int:')\n",
        "# second = input('Second float or int:')\n",
        "# sum = float(first) + float(second)\n",
        "# print('sum = ' + str(sum))  # error > print('sum=' + sum)\n",
        "\n",
        "first = float(input('First:'))\n",
        "second = float(input('Second:'))\n",
        "print('sum = '+ str(first + second))"
      ],
      "metadata": {
        "colab": {
          "base_uri": "https://localhost:8080/"
        },
        "id": "3dcufs7NWQCb",
        "outputId": "5068d99f-19cf-4ab1-b40c-e41c5d5300d5"
      },
      "execution_count": null,
      "outputs": [
        {
          "output_type": "stream",
          "name": "stdout",
          "text": [
            "First:10.1\n",
            "Second:20\n",
            "sum = 30.1\n"
          ]
        }
      ]
    },
    {
      "cell_type": "markdown",
      "source": [
        "# String"
      ],
      "metadata": {
        "id": "yQhUbKetYT0F"
      }
    },
    {
      "cell_type": "code",
      "source": [
        "course = 'Python for Beginners'\n",
        "print(course.upper())\n",
        "print(course)\n",
        "print(course.lower())\n",
        "print(course.find('y')) # index를 반환\n",
        "print(course.find('Y')) # 없으면 음수반환\n",
        "print(course.find('for'))\n",
        "print(course.replace('for','4'))\n",
        "print(course.replace('x','4'))  # replace할 게 없으면 아무것도 변환이 안됨\n",
        "print(course.find('Python'))\n",
        "oprint('Python' in course) # return boolean value"
      ],
      "metadata": {
        "colab": {
          "base_uri": "https://localhost:8080/"
        },
        "id": "gXPmm_4FYV3E",
        "outputId": "5dcf080e-ca15-4fb1-e1e2-5024899d9aa2"
      },
      "execution_count": null,
      "outputs": [
        {
          "output_type": "stream",
          "name": "stdout",
          "text": [
            "PYTHON FOR BEGINNERS\n",
            "Python for Beginners\n",
            "python for beginners\n",
            "1\n",
            "-1\n",
            "7\n",
            "Python 4 Beginners\n",
            "Python for Beginners\n",
            "0\n",
            "True\n"
          ]
        }
      ]
    },
    {
      "cell_type": "markdown",
      "source": [
        "## Operator\n",
        "\n",
        "우선순위\t연산자\t설명\n",
        "\n",
        "1\t( )\t괄호\n",
        "\n",
        "2\t**\t지수 연산자\n",
        "\n",
        "3\t*, /, %, //\t곱셈, 나눗셈, 나머지, 몫\n",
        "\n",
        "4\t+, -\t덧셈, 뺄셈\n",
        "\n",
        "5\t<, <=, >, >=, !=, ==\t비교 연산자\n",
        "\n",
        "6\t=, %=, /=, //=, -=, +=, =, *=\t할당 연산자\n",
        "\n",
        "7\tis, is not\t식별 연산자\n",
        "\n",
        "8\tin, not in\t멤버십 연산자\n",
        "\n",
        "9\tnot, or, and\t논리 연산자"
      ],
      "metadata": {
        "id": "eIZrkwv8bszv"
      }
    },
    {
      "cell_type": "code",
      "source": [
        "price = 25\n",
        "print(price > 10)\n",
        "print(not price > 10)"
      ],
      "metadata": {
        "id": "4QBtLkRzbQFz",
        "colab": {
          "base_uri": "https://localhost:8080/"
        },
        "outputId": "7eca8225-4345-4055-d9c8-1c2e4321cb10"
      },
      "execution_count": 4,
      "outputs": [
        {
          "output_type": "stream",
          "name": "stdout",
          "text": [
            "True\n",
            "False\n"
          ]
        }
      ]
    },
    {
      "cell_type": "markdown",
      "source": [
        "## IF statement"
      ],
      "metadata": {
        "id": "BcD_39Ari54U"
      }
    },
    {
      "cell_type": "code",
      "source": [
        "temperature = 10\n",
        "if temperature > 30:\n",
        "  print(\"It's a hot day\")   # ' 아닌 \"를 쓰자\n",
        "  print('It is a hot day')\n",
        "print('Done') # 항상 출력\n",
        "\n",
        "if temperature > 30:\n",
        "  print('hot day!')\n",
        "elif temperature > 20:\n",
        "  print('nice day, 한강가자!')\n",
        "else:\n",
        "  print('-_______-')\n",
        "print('done done')"
      ],
      "metadata": {
        "colab": {
          "base_uri": "https://localhost:8080/"
        },
        "id": "wD7ftsbVi9WB",
        "outputId": "1721ade4-da4c-4b02-8be1-9c48f3b3071b"
      },
      "execution_count": 15,
      "outputs": [
        {
          "output_type": "stream",
          "name": "stdout",
          "text": [
            "Done\n",
            "-_______-\n",
            "done done\n"
          ]
        }
      ]
    },
    {
      "cell_type": "code",
      "source": [
        "weight = float(input('Weight: '))\n",
        "unit = input('(K)g or (L)bs:').upper()\n",
        "\n",
        "if unit == 'K':\n",
        "# if unit.upper() == 'K':\n",
        "  converted = weight / 0.45\n",
        "  print('Weight in Kg: ' + str(round(converted,2)))\n",
        "elif unit == 'L':\n",
        "  converted = weight * 0.45\n",
        "  print('Weight in Lbs: ' + str(round(converted,2)))\n",
        "else:\n",
        "  print('error')"
      ],
      "metadata": {
        "colab": {
          "base_uri": "https://localhost:8080/"
        },
        "id": "bzbj34-Nk0re",
        "outputId": "a1bf0312-cb67-482b-d784-297fc9480122"
      },
      "execution_count": 23,
      "outputs": [
        {
          "output_type": "stream",
          "name": "stdout",
          "text": [
            "Weight: 76\n",
            "(K)g or (L)bs:k\n",
            "Weight in Kg: 168.89\n"
          ]
        }
      ]
    },
    {
      "cell_type": "markdown",
      "source": [
        "## While"
      ],
      "metadata": {
        "id": "kGZG3UBFnG75"
      }
    },
    {
      "cell_type": "code",
      "source": [
        "i = 1\n",
        "while i <= 5:\n",
        "  print(i * '*')\n",
        "  i = i + 1"
      ],
      "metadata": {
        "colab": {
          "base_uri": "https://localhost:8080/"
        },
        "id": "SMjR2cC6nJ07",
        "outputId": "09b05e0a-4286-44f7-c472-c73f222aeb23"
      },
      "execution_count": 26,
      "outputs": [
        {
          "output_type": "stream",
          "name": "stdout",
          "text": [
            "*\n",
            "**\n",
            "***\n",
            "****\n",
            "*****\n"
          ]
        }
      ]
    },
    {
      "cell_type": "markdown",
      "source": [
        "## Lists"
      ],
      "metadata": {
        "id": "y2zgEu4OoLRQ"
      }
    },
    {
      "cell_type": "code",
      "source": [
        "names = ['김준수', '정윤호', '심창민', '김재중']\n",
        "print(names[0])   # print(names)[0] 안됨!\n",
        "print(names[-1])\n",
        "names[0] = 'JJ'\n",
        "print(names[0:3]) # end index -1\n",
        "print(names)"
      ],
      "metadata": {
        "colab": {
          "base_uri": "https://localhost:8080/"
        },
        "id": "VBKO3CbwoN2u",
        "outputId": "7bbe377d-e7c5-407f-ac96-f4a9ce04708d"
      },
      "execution_count": 36,
      "outputs": [
        {
          "output_type": "stream",
          "name": "stdout",
          "text": [
            "김준수\n",
            "김재중\n",
            "['JJ', '정윤호', '심창민']\n",
            "['JJ', '정윤호', '심창민', '김재중']\n"
          ]
        }
      ]
    },
    {
      "cell_type": "markdown",
      "source": [
        "## List method"
      ],
      "metadata": {
        "id": "iv3exTLRpWsD"
      }
    },
    {
      "cell_type": "code",
      "source": [
        "numbers = [1,2,3,4,5]\n",
        "numbers.append(6)\n",
        "print(numbers)\n",
        "numbers.insert(0,7)       #(index, value)\n",
        "numbers.insert(0,'HOME')  #(index, value) type 상관없음\n",
        "print(numbers)\n",
        "numbers.remove('HOME')    # value\n",
        "print(numbers)\n",
        "numbers.clear()\n",
        "print(numbers)\n",
        "numbers = [1,2,3,4,5]\n",
        "print(1 in numbers)     # return boolean value\n",
        "print(10 in numbers)     # return boolean value\n",
        "print(len(numbers))"
      ],
      "metadata": {
        "colab": {
          "base_uri": "https://localhost:8080/"
        },
        "id": "pxoqCNRvpdO5",
        "outputId": "34226622-7120-4a75-89f1-e11f25ab1803"
      },
      "execution_count": 48,
      "outputs": [
        {
          "output_type": "stream",
          "name": "stdout",
          "text": [
            "[1, 2, 3, 4, 5, 6]\n",
            "['HOME', 7, 1, 2, 3, 4, 5, 6]\n",
            "[7, 1, 2, 3, 4, 5, 6]\n",
            "[]\n",
            "True\n",
            "False\n",
            "5\n"
          ]
        }
      ]
    },
    {
      "cell_type": "markdown",
      "source": [
        "## **For Loops & Range**"
      ],
      "metadata": {
        "id": "9nzynUzZqlHK"
      }
    },
    {
      "cell_type": "code",
      "source": [
        "numbers = list(range(1, 6))   # numbers = [1:5]\n",
        "print(numbers)\n",
        "\n",
        "for item in numbers:\n",
        "  print(item)\n",
        "\n",
        "# 아래말고 위처럼 쓰자!\n",
        "# i = 0\n",
        "# while i < len(numbers):\n",
        "#   print(numbers[i])\n",
        "#   i = i + 1\n",
        "\n",
        "num2 = range(0,5)\n",
        "print(num2)         # iterate over this range object using a for loop\n",
        "\n",
        "num3 = range(5)     # 0 ~ 4\n",
        "for number in num3:\n",
        "  print(number)\n",
        "\n",
        "num4 = range(5,10)  # 5 ~ 9\n",
        "for number in num4:\n",
        "  print(number)"
      ],
      "metadata": {
        "colab": {
          "base_uri": "https://localhost:8080/"
        },
        "id": "5zq_nHM7qoxz",
        "outputId": "65810788-bcc3-40d8-e038-037ecafd3480"
      },
      "execution_count": 63,
      "outputs": [
        {
          "output_type": "stream",
          "name": "stdout",
          "text": [
            "[1, 2, 3, 4, 5]\n",
            "1\n",
            "2\n",
            "3\n",
            "4\n",
            "5\n",
            "range(0, 5)\n",
            "0\n",
            "1\n",
            "2\n",
            "3\n",
            "4\n"
          ]
        }
      ]
    },
    {
      "cell_type": "markdown",
      "source": [
        "## **Tuples**\n",
        ": use tuples to store a sequence of objects but immutable which means we cannot change them"
      ],
      "metadata": {
        "id": "j0Gl_5xgsYI5"
      }
    },
    {
      "cell_type": "code",
      "source": [
        "numbers = (1,2,3)\n",
        "# numbers[0] = 2  : 'tuple' object does not support item assignment"
      ],
      "metadata": {
        "id": "OakkmX9-szDy"
      },
      "execution_count": 67,
      "outputs": []
    }
  ]
}